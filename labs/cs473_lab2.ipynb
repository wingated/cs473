{
 "cells": [
  {
   "cell_type": "markdown",
   "metadata": {
    "id": "IPir_6bCCFnZ"
   },
   "source": [
    "<a href=\"https://colab.research.google.com/github/wingated/cs473/blob/main/labs/cs473_lab2.ipynb\" target=\"_parent\"><img src=\"https://colab.research.google.com/assets/colab-badge.svg\" alt=\"Open In Colab\"/></a><p><b>After clicking the \"Open in Colab\" link, copy the notebook to your own Google Drive before getting started, or it will not save your work</b></p>"
   ]
  },
  {
   "cell_type": "markdown",
   "metadata": {
    "id": "_slaQdUGCB0t"
   },
   "source": [
    "# BYU CS 473 Lab 2"
   ]
  },
  {
   "cell_type": "markdown",
   "metadata": {
    "id": "ct7fnkcnCL8O"
   },
   "source": [
    "## Introduction:\n",
    "Mixture models are a powerful way to combine simple distributions to create complex distributions. Gaussian mixture modeling is a common place to start, because of the attractive theoretical properties of the model."
   ]
  },
  {
   "cell_type": "markdown",
   "metadata": {
    "id": "PUat5xRAcdrC"
   },
   "source": [
    "---\n",
    "## Exercise #1: Data Generation\n",
    "First, we'll practice sampling from a mixture model."
   ]
  },
  {
   "cell_type": "code",
   "execution_count": null,
   "metadata": {
    "id": "j1m2KIHShNdC"
   },
   "outputs": [],
   "source": [
    "import numpy as np\n",
    "\n",
    "def sample_mm( Mu, Sigma, Weight ):\n",
    "    # Mu is a list of length k. Each entry in the list is a dx1 vector, representing the mean of the corresponding mixture component\n",
    "    # Sigma is a list of length k. Each entry is a dxd matrix, representing the corresponding covariance matrix\n",
    "    # Weight is a list of length k. Each entry is a 1x1 scalar, representing the prior probability of that component\n",
    "    #\n",
    "    # Your code should return a single sample from the mixture. It should be a dx1 vector.\n",
    "\n",
    "    # NOTE: the only sampling functions you can use are np.random.randn and np.random.choice\n",
    "    # you can use other math functions as needed\n",
    "\n",
    "    # your code here\n",
    "    \n",
    "    pass"
   ]
  },
  {
   "cell_type": "code",
   "execution_count": null,
   "metadata": {
    "id": "l5hV6PS0CwT8"
   },
   "outputs": [],
   "source": [
    "# our mixture model\n",
    "\n",
    "mu_1 = np.array([[0.22], [0.45]])\n",
    "mu_2 = np.array([[0.5], [0.5]])\n",
    "mu_3 = np.array([[0.77], [0.55]])\n",
    "Mu = np.array([mu_1, mu_2, mu_3])\n",
    "\n",
    "Sigma1 = np.array([[0.011, -0.01], [-0.01, 0.018]])\n",
    "Sigma2 = np.array([[0.018, 0.01], [0.01, 0.011]])\n",
    "Sigma3 = Sigma1\n",
    "Sigma = np.array([Sigma1, Sigma2, Sigma3])"
   ]
  },
  {
   "cell_type": "markdown",
   "metadata": {},
   "source": [
    "### Now, visualize the results and compare to the expected shapes\n",
    "Here is some simple code for visualizing the level sets of a Gaussian"
   ]
  },
  {
   "cell_type": "code",
   "execution_count": null,
   "metadata": {},
   "outputs": [],
   "source": [
    "import matplotlib.pyplot as plt\n",
    "from scipy import linalg\n",
    "\n",
    "def sigmaEllipse2D(mu, Sigma, level=3, npoints=128):\n",
    "    \"\"\"\n",
    "    SIGMAELLIPSE2D generates x,y-points which lie on the ellipse describing\n",
    "    a sigma level in the Gaussian density defined by mean and covariance.\n",
    "\n",
    "    Input:\n",
    "        MU          [2 x 1] Mean of the Gaussian density\n",
    "        SIGMA       [2 x 2] Covariance matrix of the Gaussian density\n",
    "        LEVEL       Which sigma level curve to plot. Can take any positive value,\n",
    "                    but common choices are 1, 2 or 3. Default = 3.\n",
    "        NPOINTS     Number of points on the ellipse to generate. Default = 32.\n",
    "\n",
    "    Output:\n",
    "        XY          [2 x npoints] matrix. First row holds x-coordinates, second\n",
    "                    row holds the y-coordinates. First and last columns should\n",
    "                    be the same point, to create a closed curve.\n",
    "    \"\"\"  \n",
    "    phi = np.linspace(0, 2 * np.pi, npoints)\n",
    "    x = np.cos(phi)\n",
    "    y = np.sin(phi)\n",
    "    z = level * np.vstack((x, y))\n",
    "    xy = mu + linalg.sqrtm(Sigma).dot(z)\n",
    "    return xy\n",
    "\n",
    "def plot_sigma_levels(mu, P):\n",
    "    xy_1 = sigmaEllipse2D(mu, P, 0.25)\n",
    "    xy_2 = sigmaEllipse2D(mu, P, 0.5)\n",
    "    xy_3 = sigmaEllipse2D(mu, P, 0.75)\n",
    "    xy_4 = sigmaEllipse2D(mu, P, 1)\n",
    "    xy_5 = sigmaEllipse2D(mu, P, 1.25)\n",
    "    xy_6 = sigmaEllipse2D(mu, P, 1.5)\n",
    "    plt.plot(xy_1[0], xy_1[1])\n",
    "    plt.plot(xy_2[0], xy_2[1])\n",
    "    plt.plot(xy_3[0], xy_3[1])\n",
    "    plt.plot(xy_4[0], xy_4[1])\n",
    "    plt.plot(xy_5[0], xy_5[1])\n",
    "    plt.plot(xy_6[0], xy_6[1])\n",
    "    plt.plot(mu[0], mu[1], \"ro\")\n",
    "\n",
    "\n",
    "for i in range( len(Mu) ):\n",
    "    plot_sigma_levels(Mu[i], Sigma[i])"
   ]
  },
  {
   "cell_type": "code",
   "execution_count": null,
   "metadata": {},
   "outputs": [],
   "source": [
    "# sample data\n",
    "\n",
    "N = 10000\n",
    "results = [ sample_mm( Mu, Sigma, Weight ) for _ in range(N) ]\n",
    "\n",
    "#\n",
    "# create a visualization of the data generated.  (perhaps something like sns.histplot?) Compare it to the level set plots in the previous cell. Do they match?\n",
    "#"
   ]
  },
  {
   "cell_type": "markdown",
   "metadata": {},
   "source": [
    "---\n",
    "## Exercise #2: Marginals\n",
    "One way to sample from a marginal distribution is to sample from a joint distribution, and throw away the variables that have been marginalized out.\n",
    "\n"
   ]
  }
 ],
 "metadata": {
  "colab": {
   "provenance": []
  },
  "kernelspec": {
   "display_name": "Python 3 (ipykernel)",
   "language": "python",
   "name": "python3"
  },
  "language_info": {
   "codemirror_mode": {
    "name": "ipython",
    "version": 3
   },
   "file_extension": ".py",
   "mimetype": "text/x-python",
   "name": "python",
   "nbconvert_exporter": "python",
   "pygments_lexer": "ipython3",
   "version": "3.11.4"
  }
 },
 "nbformat": 4,
 "nbformat_minor": 1
}
